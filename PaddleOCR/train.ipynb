{
 "cells": [
  {
   "cell_type": "code",
   "execution_count": null,
   "metadata": {},
   "outputs": [],
   "source": [
    "!python -m pip install paddlepaddle-gpu -i https://pypi.tuna.tsinghua.edu.cn/simple\n",
    "!pip install \"paddleocr>=2.0.1\" # Recommend to use version 2.0.1+\n",
    "!git clone https://github.com/PaddlePaddle/PaddleOCR\n",
    "%cd PaddleOCR"
   ]
  },
  {
   "cell_type": "code",
   "execution_count": null,
   "metadata": {},
   "outputs": [],
   "source": [
    "!pip install gdown\n",
    "!gdown 1cpPuMESWx2WEKFFkj34Ou4MrpplyeT3J\n",
    "!unzip -qq data.zip -d MangaOCR/"
   ]
  },
  {
   "cell_type": "code",
   "execution_count": null,
   "metadata": {},
   "outputs": [],
   "source": [
    "!wget -P ./pretrain_models/ https://paddleocr.bj.bcebos.com/PP-OCRv3/multilingual/japan_PP-OCRv3_rec_train.tar\n",
    "!wget -P ./pretrain_models/ https://paddleocr.bj.bcebos.com/PP-OCRv3/multilingual/japan_PP-OCRv3_rec_infer.tar"
   ]
  },
  {
   "cell_type": "code",
   "execution_count": null,
   "metadata": {},
   "outputs": [],
   "source": [
    "%cd pretrain_models\n",
    "!tar -xf japan_PP-OCRv3_rec_train.tar && rm -rf japan_PP-OCRv3_rec_train.tar\n",
    "!tar -xf japan_PP-OCRv3_rec_infer.tar && rm -rf japan_PP-OCRv3_rec_infer.tar\n",
    "%cd .."
   ]
  },
  {
   "cell_type": "code",
   "execution_count": null,
   "metadata": {},
   "outputs": [],
   "source": [
    "!!python3 tools/train.py \\\n",
    "  -c ../config.yml "
   ]
  },
  {
   "cell_type": "code",
   "execution_count": null,
   "metadata": {},
   "outputs": [],
   "source": [
    "!python3 tools/export_model.py \\\n",
    "    -c ./output/manga_ocr/config.yml \\\n",
    "    -o Global.pretrained_model=./output/manga_ocr/best_model/model Global.save_inference_dir=./output/manga_ocr/inference"
   ]
  },
  {
   "cell_type": "code",
   "execution_count": null,
   "metadata": {},
   "outputs": [],
   "source": [
    "!python3 tools/infer/predict_rec.py \\\n",
    "  --image_dir=\"./MangaOCR/images_text/your_image.jpg\" \\\n",
    "  --rec_model_dir=\"./output/manga_ocr/inference\"  \\\n",
    "  --rec_char_dict_path=\"ppocr/utils/dict/japan_dict.txt\" \\\n",
    "  --vis_font_path=\"doc/fonts/japan.ttc\" "
   ]
  }
 ],
 "metadata": {
  "language_info": {
   "name": "python"
  }
 },
 "nbformat": 4,
 "nbformat_minor": 2
}
